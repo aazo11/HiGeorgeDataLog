{
 "cells": [
  {
   "cell_type": "code",
   "execution_count": 41,
   "metadata": {},
   "outputs": [],
   "source": [
    "import pandas as pd\n",
    "import numpy as np\n",
    "import datetime as dt\n",
    "from datetime import datetime\n",
    "import requests as rq\n",
    "import io\n",
    "import pytz"
   ]
  },
  {
   "cell_type": "code",
   "execution_count": 42,
   "metadata": {},
   "outputs": [],
   "source": [
    "def short_format(num):\n",
    "    if num > -10000 and num < 10000:\n",
    "        return '{:,.4g}'.format(num)\n",
    "    num = float('{:.3g}'.format(num))\n",
    "    magnitude = 0\n",
    "    while abs(num) >= 1000:\n",
    "        magnitude += 1\n",
    "        num /= 1000.0\n",
    "    return '{}{}'.format('{:f}'.format(num).rstrip('0').rstrip('.'), ['', 'K', 'M', 'B', 'T'][magnitude])"
   ]
  },
  {
   "cell_type": "code",
   "execution_count": 43,
   "metadata": {},
   "outputs": [],
   "source": [
    "def get_us_data(date=None, field=None):\n",
    "    \"\"\"\n",
    "    Returns a JSON object with the following notable fields:\n",
    "    positive, negative, death, total (number of tests), recovered\n",
    "    hospitalizedCurrently, inIcuCurrently, onVentilatorCurrently\n",
    "    deathIncrease, hospitalizedIncrease, positiveIncrease, negativeIncrease, totalTestResultsIncrease\n",
    "    \"\"\"\n",
    "    j = rq.get(\"https://covidtracking.com/api/v1/us/{}.json\".format(date.strftime('%Y%m%d') if date else \"current\")).json()\n",
    "    j = j if date else j[0]\n",
    "    return j[field] if field else j"
   ]
  },
  {
   "cell_type": "code",
   "execution_count": 44,
   "metadata": {},
   "outputs": [],
   "source": [
    "def get_state_data(state, date=None, field=None):\n",
    "  \"\"\"\n",
    "  Returns a JSON object with the following notable fields:\n",
    "    positive, negative, death, total (number of tests), recovered\n",
    "    hospitalizedCurrently, inIcuCurrently, onVentilatorCurrently\n",
    "    deathIncrease, hospitalizedIncrease, positiveIncrease, negativeIncrease, totalTestResultsIncrease\n",
    "  \"\"\"\n",
    "  j = rq.get(\"https://covidtracking.com/api/v1/states/{}/{}.json\".format(state, date.strftime('%Y%m%d') if date else \"current\")).json()\n",
    "  return j[field] if field else j"
   ]
  },
  {
   "cell_type": "code",
   "execution_count": 45,
   "metadata": {},
   "outputs": [],
   "source": [
    "def percent_change(old, new):\n",
    "  return (new - old) / old * 100"
   ]
  },
  {
   "cell_type": "code",
   "execution_count": 46,
   "metadata": {},
   "outputs": [],
   "source": [
    "def process_data(imported):\n",
    "    nyc = pd.DataFrame()\n",
    "    nyc['Deaths'] = imported['BK_DEATH_COUNT']\n",
    "    nyc['Cases'] = imported['BK_CASE_COUNT']\n",
    "    nyc['Total Deaths'] = np.cumsum(nyc['Deaths'])\n",
    "    nyc['Date'] = imported['date_of_interest']\n",
    "    \n",
    "    average = list(np.zeros(4)) + list(np.ones(2)*0.5)\n",
    "    for i in range(7,len(nyc)+1):\n",
    "        average += [np.mean(nyc['Cases'][i-7:i])]\n",
    "\n",
    "    nyc['7 day average'] = average\n",
    "    \n",
    "    return nyc"
   ]
  },
  {
   "cell_type": "code",
   "execution_count": 47,
   "metadata": {},
   "outputs": [],
   "source": [
    "def get_updated_data(nyc, di):\n",
    "    last_row = nyc.tail(1).iloc[0]\n",
    "    d_str = datetime.strptime(last_row['Date'], '%m/%d/%Y').strftime('%-m/%-d')\n",
    "    d_today_str = datetime.now(pytz.timezone('US/Pacific')).strftime('%-m/%-d')\n",
    "    return {\n",
    "        \"smart_tiles\": [\n",
    "            {\n",
    "                \"figure\": short_format(last_row['Deaths']),\n",
    "                \"subheader\": \"On {}\".format(d_str)\n",
    "            },\n",
    "            {\n",
    "                \"figure\": short_format(last_row['Total Deaths']),\n",
    "                \"subheader\": \"As of {}\".format(d_today_str)\n",
    "            },\n",
    "            {\n",
    "                \"figure\": short_format(get_us_data(field='death')),\n",
    "                \"subheader\": \"As of {}\".format(d_today_str)\n",
    "            }\n",
    "        ]\n",
    "    }\n"
   ]
  },
  {
   "cell_type": "code",
   "execution_count": 48,
   "metadata": {},
   "outputs": [
    {
     "data": {
      "text/html": "<div>\n<style scoped>\n    .dataframe tbody tr th:only-of-type {\n        vertical-align: middle;\n    }\n\n    .dataframe tbody tr th {\n        vertical-align: top;\n    }\n\n    .dataframe thead th {\n        text-align: right;\n    }\n</style>\n<table border=\"1\" class=\"dataframe\">\n  <thead>\n    <tr style=\"text-align: right;\">\n      <th></th>\n      <th>date_of_interest</th>\n      <th>CASE_COUNT</th>\n      <th>PROBABLE_CASE_COUNT</th>\n      <th>HOSPITALIZED_COUNT</th>\n      <th>DEATH_COUNT</th>\n      <th>PROBABLE_DEATH_COUNT</th>\n      <th>CASE_COUNT_7DAY_AVG</th>\n      <th>ALL_CASE_COUNT_7DAY_AVG</th>\n      <th>HOSP_COUNT_7DAY_AVG</th>\n      <th>DEATH_COUNT_7DAY_AVG</th>\n      <th>...</th>\n      <th>QN_CASE_COUNT_7DAY_AVG</th>\n      <th>QN_HOSPITALIZED_COUNT_7DAY_AVG</th>\n      <th>QN_DEATH_COUNT_7DAY_AVG</th>\n      <th>SI_CASE_COUNT</th>\n      <th>SI_HOSPITALIZED_COUNT</th>\n      <th>SI_DEATH_COUNT</th>\n      <th>SI_CASE_COUNT_7DAY_AVG</th>\n      <th>SI_HOSPITALIZED_COUNT_7DAY_AVG</th>\n      <th>SI_DEATH_COUNT_7DAY_AVG</th>\n      <th>INCOMPLETE</th>\n    </tr>\n  </thead>\n  <tbody>\n    <tr>\n      <th>0</th>\n      <td>02/29/2020</td>\n      <td>1</td>\n      <td>0</td>\n      <td>0</td>\n      <td>0</td>\n      <td>0</td>\n      <td>0</td>\n      <td>0</td>\n      <td>0</td>\n      <td>0</td>\n      <td>...</td>\n      <td>0</td>\n      <td>0</td>\n      <td>0</td>\n      <td>0</td>\n      <td>0</td>\n      <td>0</td>\n      <td>0</td>\n      <td>0</td>\n      <td>0</td>\n      <td>0</td>\n    </tr>\n    <tr>\n      <th>1</th>\n      <td>03/01/2020</td>\n      <td>0</td>\n      <td>0</td>\n      <td>0</td>\n      <td>0</td>\n      <td>0</td>\n      <td>0</td>\n      <td>0</td>\n      <td>0</td>\n      <td>0</td>\n      <td>...</td>\n      <td>0</td>\n      <td>0</td>\n      <td>0</td>\n      <td>0</td>\n      <td>0</td>\n      <td>0</td>\n      <td>0</td>\n      <td>0</td>\n      <td>0</td>\n      <td>0</td>\n    </tr>\n    <tr>\n      <th>2</th>\n      <td>03/02/2020</td>\n      <td>0</td>\n      <td>0</td>\n      <td>0</td>\n      <td>0</td>\n      <td>0</td>\n      <td>0</td>\n      <td>0</td>\n      <td>0</td>\n      <td>0</td>\n      <td>...</td>\n      <td>0</td>\n      <td>0</td>\n      <td>0</td>\n      <td>0</td>\n      <td>0</td>\n      <td>0</td>\n      <td>0</td>\n      <td>0</td>\n      <td>0</td>\n      <td>0</td>\n    </tr>\n    <tr>\n      <th>3</th>\n      <td>03/03/2020</td>\n      <td>1</td>\n      <td>0</td>\n      <td>1</td>\n      <td>0</td>\n      <td>0</td>\n      <td>0</td>\n      <td>0</td>\n      <td>0</td>\n      <td>0</td>\n      <td>...</td>\n      <td>0</td>\n      <td>0</td>\n      <td>0</td>\n      <td>0</td>\n      <td>0</td>\n      <td>0</td>\n      <td>0</td>\n      <td>0</td>\n      <td>0</td>\n      <td>0</td>\n    </tr>\n    <tr>\n      <th>4</th>\n      <td>03/04/2020</td>\n      <td>5</td>\n      <td>0</td>\n      <td>2</td>\n      <td>0</td>\n      <td>0</td>\n      <td>0</td>\n      <td>0</td>\n      <td>0</td>\n      <td>0</td>\n      <td>...</td>\n      <td>0</td>\n      <td>0</td>\n      <td>0</td>\n      <td>0</td>\n      <td>0</td>\n      <td>0</td>\n      <td>0</td>\n      <td>0</td>\n      <td>0</td>\n      <td>0</td>\n    </tr>\n    <tr>\n      <th>...</th>\n      <td>...</td>\n      <td>...</td>\n      <td>...</td>\n      <td>...</td>\n      <td>...</td>\n      <td>...</td>\n      <td>...</td>\n      <td>...</td>\n      <td>...</td>\n      <td>...</td>\n      <td>...</td>\n      <td>...</td>\n      <td>...</td>\n      <td>...</td>\n      <td>...</td>\n      <td>...</td>\n      <td>...</td>\n      <td>...</td>\n      <td>...</td>\n      <td>...</td>\n      <td>...</td>\n    </tr>\n    <tr>\n      <th>277</th>\n      <td>12/02/2020</td>\n      <td>2817</td>\n      <td>914</td>\n      <td>150</td>\n      <td>21</td>\n      <td>3</td>\n      <td>2122</td>\n      <td>2905</td>\n      <td>146</td>\n      <td>14</td>\n      <td>...</td>\n      <td>573</td>\n      <td>43</td>\n      <td>3</td>\n      <td>370</td>\n      <td>20</td>\n      <td>3</td>\n      <td>271</td>\n      <td>18</td>\n      <td>4</td>\n      <td>6000</td>\n    </tr>\n    <tr>\n      <th>278</th>\n      <td>12/03/2020</td>\n      <td>2598</td>\n      <td>891</td>\n      <td>186</td>\n      <td>13</td>\n      <td>5</td>\n      <td>2386</td>\n      <td>3235</td>\n      <td>153</td>\n      <td>15</td>\n      <td>...</td>\n      <td>647</td>\n      <td>45</td>\n      <td>3</td>\n      <td>309</td>\n      <td>35</td>\n      <td>3</td>\n      <td>303</td>\n      <td>21</td>\n      <td>4</td>\n      <td>6000</td>\n    </tr>\n    <tr>\n      <th>279</th>\n      <td>12/04/2020</td>\n      <td>2405</td>\n      <td>763</td>\n      <td>167</td>\n      <td>16</td>\n      <td>8</td>\n      <td>2416</td>\n      <td>3252</td>\n      <td>157</td>\n      <td>16</td>\n      <td>...</td>\n      <td>649</td>\n      <td>47</td>\n      <td>4</td>\n      <td>282</td>\n      <td>21</td>\n      <td>3</td>\n      <td>305</td>\n      <td>20</td>\n      <td>4</td>\n      <td>6000</td>\n    </tr>\n    <tr>\n      <th>280</th>\n      <td>12/05/2020</td>\n      <td>1276</td>\n      <td>629</td>\n      <td>133</td>\n      <td>15</td>\n      <td>9</td>\n      <td>2351</td>\n      <td>3185</td>\n      <td>160</td>\n      <td>16</td>\n      <td>...</td>\n      <td>638</td>\n      <td>47</td>\n      <td>4</td>\n      <td>140</td>\n      <td>16</td>\n      <td>1</td>\n      <td>296</td>\n      <td>21</td>\n      <td>4</td>\n      <td>6000</td>\n    </tr>\n    <tr>\n      <th>281</th>\n      <td>12/06/2020</td>\n      <td>982</td>\n      <td>647</td>\n      <td>75</td>\n      <td>8</td>\n      <td>12</td>\n      <td>2256</td>\n      <td>3081</td>\n      <td>150</td>\n      <td>16</td>\n      <td>...</td>\n      <td>616</td>\n      <td>43</td>\n      <td>4</td>\n      <td>112</td>\n      <td>16</td>\n      <td>2</td>\n      <td>274</td>\n      <td>20</td>\n      <td>3</td>\n      <td>6000</td>\n    </tr>\n  </tbody>\n</table>\n<p>282 rows × 42 columns</p>\n</div>",
      "text/plain": "    date_of_interest  CASE_COUNT  PROBABLE_CASE_COUNT  HOSPITALIZED_COUNT  \\\n0         02/29/2020           1                    0                   0   \n1         03/01/2020           0                    0                   0   \n2         03/02/2020           0                    0                   0   \n3         03/03/2020           1                    0                   1   \n4         03/04/2020           5                    0                   2   \n..               ...         ...                  ...                 ...   \n277       12/02/2020        2817                  914                 150   \n278       12/03/2020        2598                  891                 186   \n279       12/04/2020        2405                  763                 167   \n280       12/05/2020        1276                  629                 133   \n281       12/06/2020         982                  647                  75   \n\n     DEATH_COUNT  PROBABLE_DEATH_COUNT  CASE_COUNT_7DAY_AVG  \\\n0              0                     0                    0   \n1              0                     0                    0   \n2              0                     0                    0   \n3              0                     0                    0   \n4              0                     0                    0   \n..           ...                   ...                  ...   \n277           21                     3                 2122   \n278           13                     5                 2386   \n279           16                     8                 2416   \n280           15                     9                 2351   \n281            8                    12                 2256   \n\n     ALL_CASE_COUNT_7DAY_AVG  HOSP_COUNT_7DAY_AVG  DEATH_COUNT_7DAY_AVG  ...  \\\n0                          0                    0                     0  ...   \n1                          0                    0                     0  ...   \n2                          0                    0                     0  ...   \n3                          0                    0                     0  ...   \n4                          0                    0                     0  ...   \n..                       ...                  ...                   ...  ...   \n277                     2905                  146                    14  ...   \n278                     3235                  153                    15  ...   \n279                     3252                  157                    16  ...   \n280                     3185                  160                    16  ...   \n281                     3081                  150                    16  ...   \n\n     QN_CASE_COUNT_7DAY_AVG  QN_HOSPITALIZED_COUNT_7DAY_AVG  \\\n0                         0                               0   \n1                         0                               0   \n2                         0                               0   \n3                         0                               0   \n4                         0                               0   \n..                      ...                             ...   \n277                     573                              43   \n278                     647                              45   \n279                     649                              47   \n280                     638                              47   \n281                     616                              43   \n\n     QN_DEATH_COUNT_7DAY_AVG  SI_CASE_COUNT  SI_HOSPITALIZED_COUNT  \\\n0                          0              0                      0   \n1                          0              0                      0   \n2                          0              0                      0   \n3                          0              0                      0   \n4                          0              0                      0   \n..                       ...            ...                    ...   \n277                        3            370                     20   \n278                        3            309                     35   \n279                        4            282                     21   \n280                        4            140                     16   \n281                        4            112                     16   \n\n     SI_DEATH_COUNT  SI_CASE_COUNT_7DAY_AVG  SI_HOSPITALIZED_COUNT_7DAY_AVG  \\\n0                 0                       0                               0   \n1                 0                       0                               0   \n2                 0                       0                               0   \n3                 0                       0                               0   \n4                 0                       0                               0   \n..              ...                     ...                             ...   \n277               3                     271                              18   \n278               3                     303                              21   \n279               3                     305                              20   \n280               1                     296                              21   \n281               2                     274                              20   \n\n     SI_DEATH_COUNT_7DAY_AVG  INCOMPLETE  \n0                          0           0  \n1                          0           0  \n2                          0           0  \n3                          0           0  \n4                          0           0  \n..                       ...         ...  \n277                        4        6000  \n278                        4        6000  \n279                        4        6000  \n280                        4        6000  \n281                        3        6000  \n\n[282 rows x 42 columns]"
     },
     "execution_count": 48,
     "metadata": {},
     "output_type": "execute_result"
    }
   ],
   "source": [
    "CSV_URL = \"https://raw.githubusercontent.com/nychealth/coronavirus-data/master/trends/data-by-day.csv\"\n",
    "df = pd.read_csv(io.StringIO(rq.get(CSV_URL).text))\n",
    "df"
   ]
  },
  {
   "cell_type": "code",
   "execution_count": 49,
   "metadata": {},
   "outputs": [
    {
     "data": {
      "text/html": "<div>\n<style scoped>\n    .dataframe tbody tr th:only-of-type {\n        vertical-align: middle;\n    }\n\n    .dataframe tbody tr th {\n        vertical-align: top;\n    }\n\n    .dataframe thead th {\n        text-align: right;\n    }\n</style>\n<table border=\"1\" class=\"dataframe\">\n  <thead>\n    <tr style=\"text-align: right;\">\n      <th></th>\n      <th>Deaths</th>\n      <th>Cases</th>\n      <th>Total Deaths</th>\n      <th>Date</th>\n      <th>7 day average</th>\n    </tr>\n  </thead>\n  <tbody>\n    <tr>\n      <th>0</th>\n      <td>0</td>\n      <td>0</td>\n      <td>0</td>\n      <td>02/29/2020</td>\n      <td>0.000000</td>\n    </tr>\n    <tr>\n      <th>1</th>\n      <td>0</td>\n      <td>0</td>\n      <td>0</td>\n      <td>03/01/2020</td>\n      <td>0.000000</td>\n    </tr>\n    <tr>\n      <th>2</th>\n      <td>0</td>\n      <td>0</td>\n      <td>0</td>\n      <td>03/02/2020</td>\n      <td>0.000000</td>\n    </tr>\n    <tr>\n      <th>3</th>\n      <td>0</td>\n      <td>0</td>\n      <td>0</td>\n      <td>03/03/2020</td>\n      <td>0.000000</td>\n    </tr>\n    <tr>\n      <th>4</th>\n      <td>0</td>\n      <td>1</td>\n      <td>0</td>\n      <td>03/04/2020</td>\n      <td>0.500000</td>\n    </tr>\n    <tr>\n      <th>...</th>\n      <td>...</td>\n      <td>...</td>\n      <td>...</td>\n      <td>...</td>\n      <td>...</td>\n    </tr>\n    <tr>\n      <th>277</th>\n      <td>8</td>\n      <td>757</td>\n      <td>5860</td>\n      <td>12/02/2020</td>\n      <td>595.000000</td>\n    </tr>\n    <tr>\n      <th>278</th>\n      <td>3</td>\n      <td>738</td>\n      <td>5863</td>\n      <td>12/03/2020</td>\n      <td>666.857143</td>\n    </tr>\n    <tr>\n      <th>279</th>\n      <td>4</td>\n      <td>646</td>\n      <td>5867</td>\n      <td>12/04/2020</td>\n      <td>676.285714</td>\n    </tr>\n    <tr>\n      <th>280</th>\n      <td>6</td>\n      <td>339</td>\n      <td>5873</td>\n      <td>12/05/2020</td>\n      <td>662.428571</td>\n    </tr>\n    <tr>\n      <th>281</th>\n      <td>1</td>\n      <td>323</td>\n      <td>5874</td>\n      <td>12/06/2020</td>\n      <td>638.714286</td>\n    </tr>\n  </tbody>\n</table>\n<p>282 rows × 5 columns</p>\n</div>",
      "text/plain": "     Deaths  Cases  Total Deaths        Date  7 day average\n0         0      0             0  02/29/2020       0.000000\n1         0      0             0  03/01/2020       0.000000\n2         0      0             0  03/02/2020       0.000000\n3         0      0             0  03/03/2020       0.000000\n4         0      1             0  03/04/2020       0.500000\n..      ...    ...           ...         ...            ...\n277       8    757          5860  12/02/2020     595.000000\n278       3    738          5863  12/03/2020     666.857143\n279       4    646          5867  12/04/2020     676.285714\n280       6    339          5873  12/05/2020     662.428571\n281       1    323          5874  12/06/2020     638.714286\n\n[282 rows x 5 columns]"
     },
     "execution_count": 49,
     "metadata": {},
     "output_type": "execute_result"
    }
   ],
   "source": [
    "clean_df = process_data(df)\n",
    "clean_df"
   ]
  },
  {
   "cell_type": "code",
   "execution_count": 50,
   "metadata": {},
   "outputs": [
    {
     "data": {
      "text/plain": "{'smart_tiles': [{'figure': '1', 'subheader': 'On 12/6'},\n  {'figure': '5,874', 'subheader': 'As of 12/9'},\n  {'figure': '280K', 'subheader': 'As of 12/9'}]}"
     },
     "execution_count": 50,
     "metadata": {},
     "output_type": "execute_result"
    }
   ],
   "source": [
    "get_updated_data(clean_df, None)"
   ]
  }
 ],
 "metadata": {
  "kernelspec": {
   "display_name": "Python 3",
   "language": "python",
   "name": "python3"
  },
  "language_info": {
   "codemirror_mode": {
    "name": "ipython",
    "version": 3
   },
   "file_extension": ".py",
   "mimetype": "text/x-python",
   "name": "python",
   "nbconvert_exporter": "python",
   "pygments_lexer": "ipython3",
   "version": "3.8.5"
  },
  "orig_nbformat": 2
 },
 "nbformat": 4,
 "nbformat_minor": 2
}