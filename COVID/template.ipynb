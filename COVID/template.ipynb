{
 "metadata": {
  "language_info": {
   "codemirror_mode": {
    "name": "ipython",
    "version": 3
   },
   "file_extension": ".py",
   "mimetype": "text/x-python",
   "name": "python",
   "nbconvert_exporter": "python",
   "pygments_lexer": "ipython3",
   "version": 3
  },
  "orig_nbformat": 2
 },
 "nbformat": 4,
 "nbformat_minor": 2,
 "cells": [
  {
   "cell_type": "code",
   "execution_count": null,
   "metadata": {},
   "outputs": [],
   "source": [
    "import pandas as pd\n",
    "import numpy as np\n",
    "import datetime as dt\n",
    "import requests as rq\n",
    "import pytz"
   ]
  },
  {
   "cell_type": "code",
   "execution_count": null,
   "metadata": {},
   "outputs": [],
   "source": [
    "def short_format(num):\n",
    "    if num > -10000 and num < 10000:\n",
    "        return '{:,.4g}'.format(num)\n",
    "    num = float('{:.3g}'.format(num))\n",
    "    magnitude = 0\n",
    "    while abs(num) >= 1000:\n",
    "        magnitude += 1\n",
    "        num /= 1000.0\n",
    "    return '{}{}'.format('{:f}'.format(num).rstrip('0').rstrip('.'), ['', 'K', 'M', 'B', 'T'][magnitude])"
   ]
  },
  {
   "cell_type": "code",
   "execution_count": null,
   "metadata": {},
   "outputs": [],
   "source": [
    "def get_us_data(date=None, field=None):\n",
    "    \"\"\"\n",
    "    Returns a JSON object with the following notable fields:\n",
    "    positive, negative, death, total (number of tests), recovered\n",
    "    hospitalizedCurrently, inIcuCurrently, onVentilatorCurrently\n",
    "    deathIncrease, hospitalizedIncrease, positiveIncrease, negativeIncrease, totalTestResultsIncrease\n",
    "    \"\"\"\n",
    "    j = rq.get(\"https://covidtracking.com/api/v1/us/{}.json\".format(date.strftime('%Y%m%d') if date else \"current\")).json()\n",
    "    j = j if date else j[0]\n",
    "    return j[field] if field else j"
   ]
  },
  {
   "cell_type": "code",
   "execution_count": null,
   "metadata": {},
   "outputs": [],
   "source": [
    "def get_state_data(state, date=None, field=None):\n",
    "  \"\"\"\n",
    "  Returns a JSON object with the following notable fields:\n",
    "    positive, negative, death, total (number of tests), recovered\n",
    "    hospitalizedCurrently, inIcuCurrently, onVentilatorCurrently\n",
    "    deathIncrease, hospitalizedIncrease, positiveIncrease, negativeIncrease, totalTestResultsIncrease\n",
    "  \"\"\"\n",
    "  j = rq.get(\"https://covidtracking.com/api/v1/states/{}/{}.json\".format(state, date.strftime('%Y%m%d') if date else \"current\")).json()\n",
    "  return j[field] if field else j"
   ]
  },
  {
   "cell_type": "code",
   "execution_count": null,
   "metadata": {},
   "outputs": [],
   "source": [
    "def percent_change(old, new):\n",
    "  return (new - old) / old * 100"
   ]
  },
  {
   "cell_type": "code",
   "execution_count": null,
   "metadata": {},
   "outputs": [],
   "source": [
    "def process_data(wi):\n",
    "    wi.fillna(0, inplace=True)\n",
    "    wi = wi.sort_values(by = 'LoadDttm')\n",
    "    new_cases = wi['POS_NEW'].fillna(0).astype(int)\n",
    "    new_deaths = wi['DTH_NEW'].fillna(0).astype(int)\n",
    "    new_deaths[new_deaths<0] = 0\n",
    "    new_cases[new_cases<0] = 0\n",
    "\n",
    "    dates = wi['LoadDttm'].apply(lambda s: \"{0[1]}/{0[2]}\".format(s.split('/')).split(' ')[0])\n",
    "    wi['LoadDttm'] = dates\n",
    "    wi = wi.sort_values(by = 'LoadDttm')\n",
    "\n",
    "    temp = pd.DataFrame({'Date': dates,\n",
    "                'Cases per day': new_cases})\n",
    "\n",
    "    pos_test_rolling = wi['POS_NEW']/wi['TEST_NEW'].fillna(0).rolling(7).mean()\n",
    "    clean = pd.DataFrame({'Date': dates,\n",
    "                'Cases per day': new_cases,\n",
    "                'Deaths per day': new_deaths,\n",
    "                '7 Day Average Positive Test Rate': pos_test_rolling,\n",
    "                        'Tests per day': wi['TEST_NEW']})\n",
    "    case_avg = clean['Cases per day'].rolling(7).mean()\n",
    "    clean['7 day rolling case average'] = case_avg\n",
    "    death_sum = clean['Deaths per day'].cumsum()\n",
    "    clean['Total deaths'] = death_sum\n",
    "    clean['Total cases'] = clean['Cases per day'].cumsum()\n",
    "    clean['Total deaths'] = death_sum.astype(int)\n",
    "    clean = clean.sort_values(by='Date')\n",
    "\n",
    "    return clean"
   ]
  },
  {
   "cell_type": "code",
   "execution_count": null,
   "metadata": {},
   "outputs": [],
   "source": [
    "def get_updated_data(df, di):\n",
    "    last_row = df.tail(1).iloc[0]\n",
    "    d_str = (dt.datetime.strptime(last_row['Date'], '%m/%d').replace(year=dt.datetime.now().year) - dt.timedelta(days=1)).strftime('%-m/%-d')\n",
    "    d_today_str = dt.datetime.now(pytz.timezone('US/Pacific')).strftime('%-m/%-d')\n",
    "    return {\n",
    "        \"smart_tiles\": [\n",
    "            {\n",
    "                \"figure\": short_format(last_row['Cases per day']),\n",
    "                \"subheader\": \"On {}\".format(d_str)\n",
    "            },\n",
    "            {\n",
    "                \"figure\": short_format(last_row['Total cases']),\n",
    "                \"subheader\": \"As of {}\".format(d_today_str)\n",
    "            }\n",
    "        ]\n",
    "    }"
   ]
  },
  {
   "cell_type": "code",
   "execution_count": null,
   "metadata": {},
   "outputs": [],
   "source": [
    "CSV_URL = \"https://opendata.arcgis.com/datasets/b913e9591eae4912b33dc5b4e88646c5_10.csv?where=GEO%20%3D%20%27State%27&outSR=%7B%22latestWkid%22%3A3857%2C%22wkid%22%3A102100%7D\"\n",
    "df = pd.read_csv(CSV_URL)\n",
    "df"
   ]
  },
  {
   "cell_type": "code",
   "execution_count": null,
   "metadata": {},
   "outputs": [],
   "source": [
    "clean_df = process_data(df)\n",
    "clean_df"
   ]
  }
 ]
}