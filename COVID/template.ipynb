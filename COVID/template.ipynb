{
 "metadata": {
  "language_info": {
   "codemirror_mode": {
    "name": "ipython",
    "version": 3
   },
   "file_extension": ".py",
   "mimetype": "text/x-python",
   "name": "python",
   "nbconvert_exporter": "python",
   "pygments_lexer": "ipython3",
   "version": 3
  },
  "orig_nbformat": 2,
  "kernelspec": {
   "name": "python_defaultSpec_1595357242871",
   "display_name": "Python 3.6.9 64-bit"
  }
 },
 "nbformat": 4,
 "nbformat_minor": 2,
 "cells": [
  {
   "cell_type": "code",
   "execution_count": 189,
   "metadata": {},
   "outputs": [],
   "source": [
    "import pandas as pd\n",
    "import numpy as np\n",
    "import datetime as dt\n",
    "import requests as rq\n",
    "import io\n",
    "import pytz"
   ]
  },
  {
   "cell_type": "code",
   "execution_count": 190,
   "metadata": {},
   "outputs": [],
   "source": [
    "def short_format(num):\n",
    "    if num > -10000 and num < 10000:\n",
    "        return '{:,.4g}'.format(num)\n",
    "    num = float('{:.3g}'.format(num))\n",
    "    magnitude = 0\n",
    "    while abs(num) >= 1000:\n",
    "        magnitude += 1\n",
    "        num /= 1000.0\n",
    "    return '{}{}'.format('{:f}'.format(num).rstrip('0').rstrip('.'), ['', 'K', 'M', 'B', 'T'][magnitude])"
   ]
  },
  {
   "cell_type": "code",
   "execution_count": 191,
   "metadata": {},
   "outputs": [],
   "source": [
    "def get_us_data(date=None, field=None):\n",
    "    \"\"\"\n",
    "    Returns a JSON object with the following notable fields:\n",
    "    positive, negative, death, total (number of tests), recovered\n",
    "    hospitalizedCurrently, inIcuCurrently, onVentilatorCurrently\n",
    "    deathIncrease, hospitalizedIncrease, positiveIncrease, negativeIncrease, totalTestResultsIncrease\n",
    "    \"\"\"\n",
    "    j = rq.get(\"https://covidtracking.com/api/v1/us/{}.json\".format(date.strftime('%Y%m%d') if date else \"current\")).json()\n",
    "    j = j if date else j[0]\n",
    "    return j[field] if field else j"
   ]
  },
  {
   "cell_type": "code",
   "execution_count": 192,
   "metadata": {},
   "outputs": [],
   "source": [
    "def get_state_data(state, date=None, field=None):\n",
    "  \"\"\"\n",
    "  Returns a JSON object with the following notable fields:\n",
    "    positive, negative, death, total (number of tests), recovered\n",
    "    hospitalizedCurrently, inIcuCurrently, onVentilatorCurrently\n",
    "    deathIncrease, hospitalizedIncrease, positiveIncrease, negativeIncrease, totalTestResultsIncrease\n",
    "  \"\"\"\n",
    "  j = rq.get(\"https://covidtracking.com/api/v1/states/{}/{}.json\".format(state, date.strftime('%Y%m%d') if date else \"current\")).json()\n",
    "  return j[field] if field else j"
   ]
  },
  {
   "cell_type": "code",
   "execution_count": 193,
   "metadata": {},
   "outputs": [],
   "source": [
    "def percent_change(old, new):\n",
    "  return (new - old) / old * 100"
   ]
  },
  {
   "cell_type": "code",
   "execution_count": 194,
   "metadata": {},
   "outputs": [],
   "source": [
    "def process_data(df):\n",
    "    cols = {\n",
    "        \"NAME\": \"County\",\n",
    "        \"LoadDttm\": \"Date\",\n",
    "        \"NEGATIVE\": \"Total negative tests\",\n",
    "        \"POSITIVE\": \"Total cases\",\n",
    "        \"DTH_NEW\": \"Deaths per day\",\n",
    "        \"POS_NEW\": \"Cases per day\",\n",
    "        \"NEG_NEW\": \"Negative tests per day\",\n",
    "        \"TEST_NEW\": \"Tests per day\"\n",
    "    }\n",
    "\n",
    "    new_df = df[cols.keys()].rename(columns=cols).fillna(0)\n",
    "    new_df['Deaths per day'] = new_df['Deaths per day'].astype(int)\n",
    "    new_df['Cases per day'] = new_df['Cases per day'].astype(int)\n",
    "    new_df['Negative tests per day'] = new_df['Negative tests per day'].astype(int)\n",
    "    new_df['Tests per day'] = new_df['Tests per day'].astype(int)\n",
    "    new_df['Total negative tests'] = new_df['Total negative tests'].astype(int)\n",
    "    new_df['Total deaths'] = new_df['Deaths per day'].cumsum()\n",
    "    new_df['7 day rolling case average'] = new_df['Cases per day'].rolling(7).mean()\n",
    "    new_df['7 day rolling deaths average'] = new_df['Deaths per day'].rolling(7).mean()\n",
    "    tests = new_df[['Cases per day','Tests per day']].rolling(7).mean()\n",
    "    new_df['7 day rolling tests average'] = tests['Cases per day'] / tests['Tests per day']\n",
    "    new_df['Date'] = pd.to_datetime(new_df['Date'])\n",
    "    new_df = new_df.sort_values(by='Date')\n",
    "    new_df['Date'] = new_df['Date'].apply(lambda x: x.strftime(\"%-m/%-d/%Y\"))\n",
    "    return new_df.reset_index(drop=True)"
   ]
  },
  {
   "cell_type": "code",
   "execution_count": 195,
   "metadata": {},
   "outputs": [],
   "source": [
    "def get_updated_data(df, di):\n",
    "    last_row = df.tail(1).iloc[0]\n",
    "    prev_row = df.tail(2).iloc[0]\n",
    "    d_str = (dt.datetime.strptime(last_row['Date'], '%m/%d/%Y') - dt.timedelta(days=1)).strftime('%-m/%-d')\n",
    "    d_today_str = dt.datetime.now(pytz.timezone('US/Pacific')).strftime('%-m/%-d')\n",
    "    return {\n",
    "        \"smart_tiles\": [\n",
    "            {\n",
    "                \"figure\": short_format(last_row['Deaths per day']),\n",
    "                \"subheader\": \"On {}\".format(d_str)\n",
    "            },\n",
    "            {\n",
    "                \"figure\": short_format(last_row['Cases per day']),\n",
    "                \"subheader\": \"On {}\".format(d_str)\n",
    "            },\n",
    "            {\n",
    "                \"figure\": short_format(last_row['Total negative tests'] + last_row['Total cases']),\n",
    "                \"subheader\": \"As of {}\".format(d_today_str)\n",
    "            },\n",
    "            {\n",
    "                \"figure\": \"{:.1%}\".format(last_row['7 day rolling tests average']),\n",
    "                \"subheader\": \"As of {}\".format(d_today_str),\n",
    "                \"value_change\": round(last_row['7 day rolling tests average'] - prev_row['7 day rolling tests average'], 3) * 100\n",
    "            }\n",
    "        ]\n",
    "    }"
   ]
  },
  {
   "cell_type": "code",
   "execution_count": 196,
   "metadata": {},
   "outputs": [
    {
     "output_type": "execute_result",
     "data": {
      "text/plain": "     ï»¿OBJECTID  GEOID     GEO    NAME                LoadDttm  NEGATIVE  \\\n0             53  55101  County  Racine  2020/03/15 19:00:00+00       NaN   \n1            126  55101  County  Racine  2020/03/16 19:00:00+00       NaN   \n2           2522  55101  County  Racine  2020/06/22 19:00:00+00   21702.0   \n3           5092  55101  County  Racine  2020/06/20 19:00:00+00   21056.0   \n4           5937  55101  County  Racine  2020/06/01 19:00:00+00   11297.0   \n..           ...    ...     ...     ...                     ...       ...   \n124       146387  55101  County  Racine  2020/07/15 19:00:00+00   32119.0   \n125       147738  55101  County  Racine  2020/07/19 19:00:00+00   34091.0   \n126       149140  55101  County  Racine  2020/07/18 19:00:00+00   33928.0   \n127       150940  55101  County  Racine  2020/07/20 19:00:00+00   34091.0   \n128       152415  55101  County  Racine  2020/07/21 19:00:00+00   35010.0   \n\n     POSITIVE  HOSP_YES  HOSP_NO  HOSP_UNK  ...  DTH_E_NHSP  DTH_E_UNK  \\\n0           1       NaN      NaN       NaN  ...         NaN        NaN   \n1           1       NaN      NaN       NaN  ...         NaN        NaN   \n2        2090     294.0   1603.0     193.0  ...         NaN        NaN   \n3        2079     294.0   1601.0     184.0  ...         NaN        NaN   \n4        1733     224.0   1169.0     340.0  ...         NaN        NaN   \n..        ...       ...      ...       ...  ...         ...        ...   \n124      2418     335.0   1889.0     194.0  ...         NaN        NaN   \n125      2589     343.0   2029.0     217.0  ...         NaN        NaN   \n126      2564     343.0   2001.0     220.0  ...         NaN        NaN   \n127      2624     344.0   2037.0     243.0  ...         NaN        NaN   \n128      2715     346.0   2101.0     268.0  ...         NaN        NaN   \n\n     POS_HC_Y  POS_HC_N  POS_HC_UNK  DTH_NEW  POS_NEW  NEG_NEW  TEST_NEW  \\\n0         NaN       NaN         NaN      NaN      NaN      NaN       NaN   \n1         NaN       NaN         NaN      0.0      0.0      NaN       NaN   \n2         NaN       NaN         NaN      0.0      9.0    490.0     499.0   \n3         NaN       NaN         NaN      1.0     13.0    440.0     453.0   \n4         NaN       NaN         NaN      3.0     11.0     15.0      26.0   \n..        ...       ...         ...      ...      ...      ...       ...   \n124       NaN       NaN         NaN      0.0     27.0    466.0     493.0   \n125       NaN       NaN         NaN      0.0     25.0    163.0     188.0   \n126       NaN       NaN         NaN      0.0     45.0    701.0     746.0   \n127       NaN       NaN         NaN      0.0     35.0      0.0      35.0   \n128       NaN       NaN         NaN      3.0     91.0    919.0    1010.0   \n\n                       DATE  \n0    2020/03/15 14:00:00+00  \n1    2020/03/16 14:00:00+00  \n2    2020/06/22 14:00:00+00  \n3    2020/06/20 14:00:00+00  \n4    2020/06/01 14:00:00+00  \n..                      ...  \n124  2020/07/15 14:00:00+00  \n125  2020/07/19 14:00:00+00  \n126  2020/07/18 14:00:00+00  \n127  2020/07/20 14:00:00+00  \n128  2020/07/21 14:00:00+00  \n\n[129 rows x 104 columns]",
      "text/html": "<div>\n<style scoped>\n    .dataframe tbody tr th:only-of-type {\n        vertical-align: middle;\n    }\n\n    .dataframe tbody tr th {\n        vertical-align: top;\n    }\n\n    .dataframe thead th {\n        text-align: right;\n    }\n</style>\n<table border=\"1\" class=\"dataframe\">\n  <thead>\n    <tr style=\"text-align: right;\">\n      <th></th>\n      <th>ï»¿OBJECTID</th>\n      <th>GEOID</th>\n      <th>GEO</th>\n      <th>NAME</th>\n      <th>LoadDttm</th>\n      <th>NEGATIVE</th>\n      <th>POSITIVE</th>\n      <th>HOSP_YES</th>\n      <th>HOSP_NO</th>\n      <th>HOSP_UNK</th>\n      <th>...</th>\n      <th>DTH_E_NHSP</th>\n      <th>DTH_E_UNK</th>\n      <th>POS_HC_Y</th>\n      <th>POS_HC_N</th>\n      <th>POS_HC_UNK</th>\n      <th>DTH_NEW</th>\n      <th>POS_NEW</th>\n      <th>NEG_NEW</th>\n      <th>TEST_NEW</th>\n      <th>DATE</th>\n    </tr>\n  </thead>\n  <tbody>\n    <tr>\n      <th>0</th>\n      <td>53</td>\n      <td>55101</td>\n      <td>County</td>\n      <td>Racine</td>\n      <td>2020/03/15 19:00:00+00</td>\n      <td>NaN</td>\n      <td>1</td>\n      <td>NaN</td>\n      <td>NaN</td>\n      <td>NaN</td>\n      <td>...</td>\n      <td>NaN</td>\n      <td>NaN</td>\n      <td>NaN</td>\n      <td>NaN</td>\n      <td>NaN</td>\n      <td>NaN</td>\n      <td>NaN</td>\n      <td>NaN</td>\n      <td>NaN</td>\n      <td>2020/03/15 14:00:00+00</td>\n    </tr>\n    <tr>\n      <th>1</th>\n      <td>126</td>\n      <td>55101</td>\n      <td>County</td>\n      <td>Racine</td>\n      <td>2020/03/16 19:00:00+00</td>\n      <td>NaN</td>\n      <td>1</td>\n      <td>NaN</td>\n      <td>NaN</td>\n      <td>NaN</td>\n      <td>...</td>\n      <td>NaN</td>\n      <td>NaN</td>\n      <td>NaN</td>\n      <td>NaN</td>\n      <td>NaN</td>\n      <td>0.0</td>\n      <td>0.0</td>\n      <td>NaN</td>\n      <td>NaN</td>\n      <td>2020/03/16 14:00:00+00</td>\n    </tr>\n    <tr>\n      <th>2</th>\n      <td>2522</td>\n      <td>55101</td>\n      <td>County</td>\n      <td>Racine</td>\n      <td>2020/06/22 19:00:00+00</td>\n      <td>21702.0</td>\n      <td>2090</td>\n      <td>294.0</td>\n      <td>1603.0</td>\n      <td>193.0</td>\n      <td>...</td>\n      <td>NaN</td>\n      <td>NaN</td>\n      <td>NaN</td>\n      <td>NaN</td>\n      <td>NaN</td>\n      <td>0.0</td>\n      <td>9.0</td>\n      <td>490.0</td>\n      <td>499.0</td>\n      <td>2020/06/22 14:00:00+00</td>\n    </tr>\n    <tr>\n      <th>3</th>\n      <td>5092</td>\n      <td>55101</td>\n      <td>County</td>\n      <td>Racine</td>\n      <td>2020/06/20 19:00:00+00</td>\n      <td>21056.0</td>\n      <td>2079</td>\n      <td>294.0</td>\n      <td>1601.0</td>\n      <td>184.0</td>\n      <td>...</td>\n      <td>NaN</td>\n      <td>NaN</td>\n      <td>NaN</td>\n      <td>NaN</td>\n      <td>NaN</td>\n      <td>1.0</td>\n      <td>13.0</td>\n      <td>440.0</td>\n      <td>453.0</td>\n      <td>2020/06/20 14:00:00+00</td>\n    </tr>\n    <tr>\n      <th>4</th>\n      <td>5937</td>\n      <td>55101</td>\n      <td>County</td>\n      <td>Racine</td>\n      <td>2020/06/01 19:00:00+00</td>\n      <td>11297.0</td>\n      <td>1733</td>\n      <td>224.0</td>\n      <td>1169.0</td>\n      <td>340.0</td>\n      <td>...</td>\n      <td>NaN</td>\n      <td>NaN</td>\n      <td>NaN</td>\n      <td>NaN</td>\n      <td>NaN</td>\n      <td>3.0</td>\n      <td>11.0</td>\n      <td>15.0</td>\n      <td>26.0</td>\n      <td>2020/06/01 14:00:00+00</td>\n    </tr>\n    <tr>\n      <th>...</th>\n      <td>...</td>\n      <td>...</td>\n      <td>...</td>\n      <td>...</td>\n      <td>...</td>\n      <td>...</td>\n      <td>...</td>\n      <td>...</td>\n      <td>...</td>\n      <td>...</td>\n      <td>...</td>\n      <td>...</td>\n      <td>...</td>\n      <td>...</td>\n      <td>...</td>\n      <td>...</td>\n      <td>...</td>\n      <td>...</td>\n      <td>...</td>\n      <td>...</td>\n      <td>...</td>\n    </tr>\n    <tr>\n      <th>124</th>\n      <td>146387</td>\n      <td>55101</td>\n      <td>County</td>\n      <td>Racine</td>\n      <td>2020/07/15 19:00:00+00</td>\n      <td>32119.0</td>\n      <td>2418</td>\n      <td>335.0</td>\n      <td>1889.0</td>\n      <td>194.0</td>\n      <td>...</td>\n      <td>NaN</td>\n      <td>NaN</td>\n      <td>NaN</td>\n      <td>NaN</td>\n      <td>NaN</td>\n      <td>0.0</td>\n      <td>27.0</td>\n      <td>466.0</td>\n      <td>493.0</td>\n      <td>2020/07/15 14:00:00+00</td>\n    </tr>\n    <tr>\n      <th>125</th>\n      <td>147738</td>\n      <td>55101</td>\n      <td>County</td>\n      <td>Racine</td>\n      <td>2020/07/19 19:00:00+00</td>\n      <td>34091.0</td>\n      <td>2589</td>\n      <td>343.0</td>\n      <td>2029.0</td>\n      <td>217.0</td>\n      <td>...</td>\n      <td>NaN</td>\n      <td>NaN</td>\n      <td>NaN</td>\n      <td>NaN</td>\n      <td>NaN</td>\n      <td>0.0</td>\n      <td>25.0</td>\n      <td>163.0</td>\n      <td>188.0</td>\n      <td>2020/07/19 14:00:00+00</td>\n    </tr>\n    <tr>\n      <th>126</th>\n      <td>149140</td>\n      <td>55101</td>\n      <td>County</td>\n      <td>Racine</td>\n      <td>2020/07/18 19:00:00+00</td>\n      <td>33928.0</td>\n      <td>2564</td>\n      <td>343.0</td>\n      <td>2001.0</td>\n      <td>220.0</td>\n      <td>...</td>\n      <td>NaN</td>\n      <td>NaN</td>\n      <td>NaN</td>\n      <td>NaN</td>\n      <td>NaN</td>\n      <td>0.0</td>\n      <td>45.0</td>\n      <td>701.0</td>\n      <td>746.0</td>\n      <td>2020/07/18 14:00:00+00</td>\n    </tr>\n    <tr>\n      <th>127</th>\n      <td>150940</td>\n      <td>55101</td>\n      <td>County</td>\n      <td>Racine</td>\n      <td>2020/07/20 19:00:00+00</td>\n      <td>34091.0</td>\n      <td>2624</td>\n      <td>344.0</td>\n      <td>2037.0</td>\n      <td>243.0</td>\n      <td>...</td>\n      <td>NaN</td>\n      <td>NaN</td>\n      <td>NaN</td>\n      <td>NaN</td>\n      <td>NaN</td>\n      <td>0.0</td>\n      <td>35.0</td>\n      <td>0.0</td>\n      <td>35.0</td>\n      <td>2020/07/20 14:00:00+00</td>\n    </tr>\n    <tr>\n      <th>128</th>\n      <td>152415</td>\n      <td>55101</td>\n      <td>County</td>\n      <td>Racine</td>\n      <td>2020/07/21 19:00:00+00</td>\n      <td>35010.0</td>\n      <td>2715</td>\n      <td>346.0</td>\n      <td>2101.0</td>\n      <td>268.0</td>\n      <td>...</td>\n      <td>NaN</td>\n      <td>NaN</td>\n      <td>NaN</td>\n      <td>NaN</td>\n      <td>NaN</td>\n      <td>3.0</td>\n      <td>91.0</td>\n      <td>919.0</td>\n      <td>1010.0</td>\n      <td>2020/07/21 14:00:00+00</td>\n    </tr>\n  </tbody>\n</table>\n<p>129 rows × 104 columns</p>\n</div>"
     },
     "metadata": {},
     "execution_count": 196
    }
   ],
   "source": [
    "CSV_URL = \"https://opendata.arcgis.com/datasets/b913e9591eae4912b33dc5b4e88646c5_10.csv?where=GEO%20%3D%20%27County%27%20AND%20NAME%20%3D%20%27Racine%27\"\n",
    "df = pd.read_csv(io.StringIO(rq.get(CSV_URL).text))\n",
    "df"
   ]
  },
  {
   "cell_type": "code",
   "execution_count": 197,
   "metadata": {},
   "outputs": [
    {
     "output_type": "execute_result",
     "data": {
      "text/plain": "     County       Date  Total negative tests  Total cases  Deaths per day  \\\n0    Racine  3/15/2020                     0            1               0   \n1    Racine  3/16/2020                     0            1               0   \n2    Racine  3/17/2020                     0            1               0   \n3    Racine  3/18/2020                     0            1               0   \n4    Racine  3/19/2020                     0            3               0   \n..      ...        ...                   ...          ...             ...   \n124  Racine  7/17/2020                 33227         2519               0   \n125  Racine  7/18/2020                 33928         2564               0   \n126  Racine  7/19/2020                 34091         2589               0   \n127  Racine  7/20/2020                 34091         2624               0   \n128  Racine  7/21/2020                 35010         2715               3   \n\n     Cases per day  Negative tests per day  Tests per day  Total deaths  \\\n0                0                       0              0             0   \n1                0                       0              0             0   \n2                0                       0              0            35   \n3                0                       0              0            35   \n4                2                       0              0            35   \n..             ...                     ...            ...           ...   \n124             56                     418            474            65   \n125             45                     701            746            66   \n126             25                     163            188            66   \n127             35                       0             35            66   \n128             91                     919           1010            69   \n\n     7 day rolling case average  7 day rolling deaths average  \\\n0                           NaN                           NaN   \n1                           NaN                           NaN   \n2                     28.428571                      0.142857   \n3                     21.857143                      0.142857   \n4                     18.714286                      0.142857   \n..                          ...                           ...   \n124                   25.000000                      0.000000   \n125                   33.000000                      0.142857   \n126                   28.000000                      0.142857   \n127                   35.142857                      0.142857   \n128                   46.285714                      0.571429   \n\n     7 day rolling tests average  \n0                            NaN  \n1                            NaN  \n2                       0.171700  \n3                       0.175660  \n4                       0.186344  \n..                           ...  \n124                     0.048090  \n125                     0.066686  \n126                     0.070000  \n127                     0.088014  \n128                     0.088020  \n\n[129 rows x 12 columns]",
      "text/html": "<div>\n<style scoped>\n    .dataframe tbody tr th:only-of-type {\n        vertical-align: middle;\n    }\n\n    .dataframe tbody tr th {\n        vertical-align: top;\n    }\n\n    .dataframe thead th {\n        text-align: right;\n    }\n</style>\n<table border=\"1\" class=\"dataframe\">\n  <thead>\n    <tr style=\"text-align: right;\">\n      <th></th>\n      <th>County</th>\n      <th>Date</th>\n      <th>Total negative tests</th>\n      <th>Total cases</th>\n      <th>Deaths per day</th>\n      <th>Cases per day</th>\n      <th>Negative tests per day</th>\n      <th>Tests per day</th>\n      <th>Total deaths</th>\n      <th>7 day rolling case average</th>\n      <th>7 day rolling deaths average</th>\n      <th>7 day rolling tests average</th>\n    </tr>\n  </thead>\n  <tbody>\n    <tr>\n      <th>0</th>\n      <td>Racine</td>\n      <td>3/15/2020</td>\n      <td>0</td>\n      <td>1</td>\n      <td>0</td>\n      <td>0</td>\n      <td>0</td>\n      <td>0</td>\n      <td>0</td>\n      <td>NaN</td>\n      <td>NaN</td>\n      <td>NaN</td>\n    </tr>\n    <tr>\n      <th>1</th>\n      <td>Racine</td>\n      <td>3/16/2020</td>\n      <td>0</td>\n      <td>1</td>\n      <td>0</td>\n      <td>0</td>\n      <td>0</td>\n      <td>0</td>\n      <td>0</td>\n      <td>NaN</td>\n      <td>NaN</td>\n      <td>NaN</td>\n    </tr>\n    <tr>\n      <th>2</th>\n      <td>Racine</td>\n      <td>3/17/2020</td>\n      <td>0</td>\n      <td>1</td>\n      <td>0</td>\n      <td>0</td>\n      <td>0</td>\n      <td>0</td>\n      <td>35</td>\n      <td>28.428571</td>\n      <td>0.142857</td>\n      <td>0.171700</td>\n    </tr>\n    <tr>\n      <th>3</th>\n      <td>Racine</td>\n      <td>3/18/2020</td>\n      <td>0</td>\n      <td>1</td>\n      <td>0</td>\n      <td>0</td>\n      <td>0</td>\n      <td>0</td>\n      <td>35</td>\n      <td>21.857143</td>\n      <td>0.142857</td>\n      <td>0.175660</td>\n    </tr>\n    <tr>\n      <th>4</th>\n      <td>Racine</td>\n      <td>3/19/2020</td>\n      <td>0</td>\n      <td>3</td>\n      <td>0</td>\n      <td>2</td>\n      <td>0</td>\n      <td>0</td>\n      <td>35</td>\n      <td>18.714286</td>\n      <td>0.142857</td>\n      <td>0.186344</td>\n    </tr>\n    <tr>\n      <th>...</th>\n      <td>...</td>\n      <td>...</td>\n      <td>...</td>\n      <td>...</td>\n      <td>...</td>\n      <td>...</td>\n      <td>...</td>\n      <td>...</td>\n      <td>...</td>\n      <td>...</td>\n      <td>...</td>\n      <td>...</td>\n    </tr>\n    <tr>\n      <th>124</th>\n      <td>Racine</td>\n      <td>7/17/2020</td>\n      <td>33227</td>\n      <td>2519</td>\n      <td>0</td>\n      <td>56</td>\n      <td>418</td>\n      <td>474</td>\n      <td>65</td>\n      <td>25.000000</td>\n      <td>0.000000</td>\n      <td>0.048090</td>\n    </tr>\n    <tr>\n      <th>125</th>\n      <td>Racine</td>\n      <td>7/18/2020</td>\n      <td>33928</td>\n      <td>2564</td>\n      <td>0</td>\n      <td>45</td>\n      <td>701</td>\n      <td>746</td>\n      <td>66</td>\n      <td>33.000000</td>\n      <td>0.142857</td>\n      <td>0.066686</td>\n    </tr>\n    <tr>\n      <th>126</th>\n      <td>Racine</td>\n      <td>7/19/2020</td>\n      <td>34091</td>\n      <td>2589</td>\n      <td>0</td>\n      <td>25</td>\n      <td>163</td>\n      <td>188</td>\n      <td>66</td>\n      <td>28.000000</td>\n      <td>0.142857</td>\n      <td>0.070000</td>\n    </tr>\n    <tr>\n      <th>127</th>\n      <td>Racine</td>\n      <td>7/20/2020</td>\n      <td>34091</td>\n      <td>2624</td>\n      <td>0</td>\n      <td>35</td>\n      <td>0</td>\n      <td>35</td>\n      <td>66</td>\n      <td>35.142857</td>\n      <td>0.142857</td>\n      <td>0.088014</td>\n    </tr>\n    <tr>\n      <th>128</th>\n      <td>Racine</td>\n      <td>7/21/2020</td>\n      <td>35010</td>\n      <td>2715</td>\n      <td>3</td>\n      <td>91</td>\n      <td>919</td>\n      <td>1010</td>\n      <td>69</td>\n      <td>46.285714</td>\n      <td>0.571429</td>\n      <td>0.088020</td>\n    </tr>\n  </tbody>\n</table>\n<p>129 rows × 12 columns</p>\n</div>"
     },
     "metadata": {},
     "execution_count": 197
    }
   ],
   "source": [
    "clean_df = process_data(df)\n",
    "clean_df"
   ]
  },
  {
   "cell_type": "code",
   "execution_count": 198,
   "metadata": {},
   "outputs": [
    {
     "output_type": "execute_result",
     "data": {
      "text/plain": "{'smart_tiles': [{'figure': '3', 'subheader': 'On 7/20'},\n  {'figure': '91', 'subheader': 'On 7/20'},\n  {'figure': '37.7K', 'subheader': 'As of 7/21'},\n  {'figure': '8.8%', 'subheader': 'As of 7/21', 'value_change': 0.0}]}"
     },
     "metadata": {},
     "execution_count": 198
    }
   ],
   "source": [
    "get_updated_data(clean_df, None)"
   ]
  }
 ]
}