{
 "metadata": {
  "language_info": {
   "codemirror_mode": {
    "name": "ipython",
    "version": 3
   },
   "file_extension": ".py",
   "mimetype": "text/x-python",
   "name": "python",
   "nbconvert_exporter": "python",
   "pygments_lexer": "ipython3",
   "version": 3
  },
  "orig_nbformat": 2,
  "kernelspec": {
   "name": "python_defaultSpec_1595357242871",
   "display_name": "Python 3.6.9 64-bit"
  }
 },
 "nbformat": 4,
 "nbformat_minor": 2,
 "cells": [
  {
   "cell_type": "code",
   "execution_count": 63,
   "metadata": {},
   "outputs": [],
   "source": [
    "import pandas as pd\n",
    "import numpy as np\n",
    "import datetime as dt\n",
    "import requests as rq\n",
    "import pytz"
   ]
  },
  {
   "cell_type": "code",
   "execution_count": 65,
   "metadata": {},
   "outputs": [],
   "source": [
    "def short_format(num):\n",
    "    if num > -10000 and num < 10000:\n",
    "        return '{:,.4g}'.format(num)\n",
    "    num = float('{:.3g}'.format(num))\n",
    "    magnitude = 0\n",
    "    while abs(num) >= 1000:\n",
    "        magnitude += 1\n",
    "        num /= 1000.0\n",
    "    return '{}{}'.format('{:f}'.format(num).rstrip('0').rstrip('.'), ['', 'K', 'M', 'B', 'T'][magnitude])"
   ]
  },
  {
   "cell_type": "code",
   "execution_count": 67,
   "metadata": {},
   "outputs": [],
   "source": [
    "def get_us_data(date=None, field=None):\n",
    "    \"\"\"\n",
    "    Returns a JSON object with the following notable fields:\n",
    "    positive, negative, death, total (number of tests), recovered\n",
    "    hospitalizedCurrently, inIcuCurrently, onVentilatorCurrently\n",
    "    deathIncrease, hospitalizedIncrease, positiveIncrease, negativeIncrease, totalTestResultsIncrease\n",
    "    \"\"\"\n",
    "    j = rq.get(\"https://covidtracking.com/api/v1/us/{}.json\".format(date.strftime('%Y%m%d') if date else \"current\")).json()\n",
    "    j = j if date else j[0]\n",
    "    return j[field] if field else j"
   ]
  },
  {
   "cell_type": "code",
   "execution_count": 68,
   "metadata": {},
   "outputs": [],
   "source": [
    "def get_state_data(state, date=None, field=None):\n",
    "  \"\"\"\n",
    "  Returns a JSON object with the following notable fields:\n",
    "    positive, negative, death, total (number of tests), recovered\n",
    "    hospitalizedCurrently, inIcuCurrently, onVentilatorCurrently\n",
    "    deathIncrease, hospitalizedIncrease, positiveIncrease, negativeIncrease, totalTestResultsIncrease\n",
    "  \"\"\"\n",
    "  j = rq.get(\"https://covidtracking.com/api/v1/states/{}/{}.json\".format(state, date.strftime('%Y%m%d') if date else \"current\")).json()\n",
    "  return j[field] if field else j"
   ]
  },
  {
   "cell_type": "code",
   "execution_count": 69,
   "metadata": {},
   "outputs": [],
   "source": [
    "def percent_change(old, new):\n",
    "  return (new - old) / old * 100"
   ]
  },
  {
   "cell_type": "code",
   "execution_count": 70,
   "metadata": {},
   "outputs": [],
   "source": [
    "def process_data(states):\n",
    "    date = states[(states['Region'] == 'San Francisco') & (states['Date']>'2020-03-10')]['Date']\n",
    "    santaclara = states[(states['Region'] == 'Santa Clara') & (states['Date']>'2020-03-10')]['Estimated Effective R']\n",
    "    alam = states[(states['Region'] == 'Alameda') & (states['Date']>'2020-03-10')]['Estimated Effective R']\n",
    "    cc = states[(states['Region'] == 'Contra Costa') & (states['Date']>'2020-03-10')]['Estimated Effective R']\n",
    "    marin = states[(states['Region'] == 'Marin') & (states['Date']>'2020-03-10')]['Estimated Effective R']\n",
    "    smateo = states[(states['Region'] == 'San Mateo') & (states['Date']>'2020-03-10')]['Estimated Effective R']\n",
    "    sf = states[(states['Region'] == 'San Francisco') & (states['Date']>'2020-03-10')]['Estimated Effective R']\n",
    "    deaths = pd.DataFrame()\n",
    "\n",
    "    deaths['Date'] = date.iloc[:].values\n",
    "    deaths['Santa Clara'] = santaclara.iloc[:].values\n",
    "    deaths['SF'] = sf.iloc[:].values\n",
    "    deaths['Alameda'] = alam.iloc[:].values\n",
    "    deaths['Contra Costa'] = cc.iloc[:].values\n",
    "    deaths['Marin'] = marin.iloc[:].values\n",
    "    deaths['San Mateo'] = smateo.iloc[:].values\n",
    "    return deaths"
   ]
  },
  {
   "cell_type": "code",
   "execution_count": 71,
   "metadata": {},
   "outputs": [],
   "source": [
    "def get_updated_data(df, di):\n",
    "    return None"
   ]
  },
  {
   "cell_type": "code",
   "execution_count": 72,
   "metadata": {},
   "outputs": [
    {
     "output_type": "execute_result",
     "data": {
      "text/plain": "           county  totalcountconfirmed  totalcountdeaths  newcountconfirmed  \\\n0     Santa Clara                151.0               6.0                151   \n1     Santa Clara                183.0               8.0                 32   \n2     Santa Clara                246.0               8.0                 63   \n3     Santa Clara                269.0              10.0                 23   \n4     Santa Clara                284.0              13.0                 15   \n...           ...                  ...               ...                ...   \n7440         Yolo               1034.0              30.0                 32   \n7441         Yolo               1055.0              31.0                 21   \n7442         Yolo               1077.0              31.0                 22   \n7443         Yolo               1127.0              31.0                 50   \n7444         Yolo               1155.0              34.0                 28   \n\n      newcountdeaths        date  \n0                  6  2020-03-18  \n1                  2  2020-03-19  \n2                  0  2020-03-20  \n3                  2  2020-03-21  \n4                  3  2020-03-22  \n...              ...         ...  \n7440               1  2020-07-16  \n7441               1  2020-07-17  \n7442               0  2020-07-18  \n7443               0  2020-07-19  \n7444               3  2020-07-20  \n\n[7445 rows x 6 columns]",
      "text/html": "<div>\n<style scoped>\n    .dataframe tbody tr th:only-of-type {\n        vertical-align: middle;\n    }\n\n    .dataframe tbody tr th {\n        vertical-align: top;\n    }\n\n    .dataframe thead th {\n        text-align: right;\n    }\n</style>\n<table border=\"1\" class=\"dataframe\">\n  <thead>\n    <tr style=\"text-align: right;\">\n      <th></th>\n      <th>county</th>\n      <th>totalcountconfirmed</th>\n      <th>totalcountdeaths</th>\n      <th>newcountconfirmed</th>\n      <th>newcountdeaths</th>\n      <th>date</th>\n    </tr>\n  </thead>\n  <tbody>\n    <tr>\n      <th>0</th>\n      <td>Santa Clara</td>\n      <td>151.0</td>\n      <td>6.0</td>\n      <td>151</td>\n      <td>6</td>\n      <td>2020-03-18</td>\n    </tr>\n    <tr>\n      <th>1</th>\n      <td>Santa Clara</td>\n      <td>183.0</td>\n      <td>8.0</td>\n      <td>32</td>\n      <td>2</td>\n      <td>2020-03-19</td>\n    </tr>\n    <tr>\n      <th>2</th>\n      <td>Santa Clara</td>\n      <td>246.0</td>\n      <td>8.0</td>\n      <td>63</td>\n      <td>0</td>\n      <td>2020-03-20</td>\n    </tr>\n    <tr>\n      <th>3</th>\n      <td>Santa Clara</td>\n      <td>269.0</td>\n      <td>10.0</td>\n      <td>23</td>\n      <td>2</td>\n      <td>2020-03-21</td>\n    </tr>\n    <tr>\n      <th>4</th>\n      <td>Santa Clara</td>\n      <td>284.0</td>\n      <td>13.0</td>\n      <td>15</td>\n      <td>3</td>\n      <td>2020-03-22</td>\n    </tr>\n    <tr>\n      <th>...</th>\n      <td>...</td>\n      <td>...</td>\n      <td>...</td>\n      <td>...</td>\n      <td>...</td>\n      <td>...</td>\n    </tr>\n    <tr>\n      <th>7440</th>\n      <td>Yolo</td>\n      <td>1034.0</td>\n      <td>30.0</td>\n      <td>32</td>\n      <td>1</td>\n      <td>2020-07-16</td>\n    </tr>\n    <tr>\n      <th>7441</th>\n      <td>Yolo</td>\n      <td>1055.0</td>\n      <td>31.0</td>\n      <td>21</td>\n      <td>1</td>\n      <td>2020-07-17</td>\n    </tr>\n    <tr>\n      <th>7442</th>\n      <td>Yolo</td>\n      <td>1077.0</td>\n      <td>31.0</td>\n      <td>22</td>\n      <td>0</td>\n      <td>2020-07-18</td>\n    </tr>\n    <tr>\n      <th>7443</th>\n      <td>Yolo</td>\n      <td>1127.0</td>\n      <td>31.0</td>\n      <td>50</td>\n      <td>0</td>\n      <td>2020-07-19</td>\n    </tr>\n    <tr>\n      <th>7444</th>\n      <td>Yolo</td>\n      <td>1155.0</td>\n      <td>34.0</td>\n      <td>28</td>\n      <td>3</td>\n      <td>2020-07-20</td>\n    </tr>\n  </tbody>\n</table>\n<p>7445 rows × 6 columns</p>\n</div>"
     },
     "metadata": {},
     "execution_count": 72
    }
   ],
   "source": [
    "CSV_URL = \"https://ca-covid-r.info/ca_daily_cases_and_r.csv\"\n",
    "df = pd.read_csv(CSV_URL)\n",
    "df"
   ]
  },
  {
   "cell_type": "code",
   "execution_count": 73,
   "metadata": {},
   "outputs": [
    {
     "output_type": "execute_result",
     "data": {
      "text/plain": "           Date  Santa Clara    SF  Alameda  Contra Costa  Marin  San Mateo\n0    2020-03-18          6.0   0.0      0.0           0.0    0.0        1.0\n1    2020-03-19          8.0   0.0      0.0           0.0    0.0        1.0\n2    2020-03-20          8.0   0.0      0.0           1.0    0.0        1.0\n3    2020-03-21         10.0   0.0      0.0           1.0    0.0        1.0\n4    2020-03-22         13.0   0.0      1.0           1.0    0.0        1.0\n..          ...          ...   ...      ...           ...    ...        ...\n120  2020-07-16        176.0  51.0    154.0          93.0   29.0      114.0\n121  2020-07-17        177.0  52.0    161.0          96.0   29.0      114.0\n122  2020-07-18        177.0  52.0    162.0          98.0   30.0      114.0\n123  2020-07-19        177.0  52.0    162.0          98.0   30.0      114.0\n124  2020-07-20        178.0  52.0    162.0          99.0   31.0      114.0\n\n[125 rows x 7 columns]",
      "text/html": "<div>\n<style scoped>\n    .dataframe tbody tr th:only-of-type {\n        vertical-align: middle;\n    }\n\n    .dataframe tbody tr th {\n        vertical-align: top;\n    }\n\n    .dataframe thead th {\n        text-align: right;\n    }\n</style>\n<table border=\"1\" class=\"dataframe\">\n  <thead>\n    <tr style=\"text-align: right;\">\n      <th></th>\n      <th>Date</th>\n      <th>Santa Clara</th>\n      <th>SF</th>\n      <th>Alameda</th>\n      <th>Contra Costa</th>\n      <th>Marin</th>\n      <th>San Mateo</th>\n    </tr>\n  </thead>\n  <tbody>\n    <tr>\n      <th>0</th>\n      <td>2020-03-18</td>\n      <td>6.0</td>\n      <td>0.0</td>\n      <td>0.0</td>\n      <td>0.0</td>\n      <td>0.0</td>\n      <td>1.0</td>\n    </tr>\n    <tr>\n      <th>1</th>\n      <td>2020-03-19</td>\n      <td>8.0</td>\n      <td>0.0</td>\n      <td>0.0</td>\n      <td>0.0</td>\n      <td>0.0</td>\n      <td>1.0</td>\n    </tr>\n    <tr>\n      <th>2</th>\n      <td>2020-03-20</td>\n      <td>8.0</td>\n      <td>0.0</td>\n      <td>0.0</td>\n      <td>1.0</td>\n      <td>0.0</td>\n      <td>1.0</td>\n    </tr>\n    <tr>\n      <th>3</th>\n      <td>2020-03-21</td>\n      <td>10.0</td>\n      <td>0.0</td>\n      <td>0.0</td>\n      <td>1.0</td>\n      <td>0.0</td>\n      <td>1.0</td>\n    </tr>\n    <tr>\n      <th>4</th>\n      <td>2020-03-22</td>\n      <td>13.0</td>\n      <td>0.0</td>\n      <td>1.0</td>\n      <td>1.0</td>\n      <td>0.0</td>\n      <td>1.0</td>\n    </tr>\n    <tr>\n      <th>...</th>\n      <td>...</td>\n      <td>...</td>\n      <td>...</td>\n      <td>...</td>\n      <td>...</td>\n      <td>...</td>\n      <td>...</td>\n    </tr>\n    <tr>\n      <th>120</th>\n      <td>2020-07-16</td>\n      <td>176.0</td>\n      <td>51.0</td>\n      <td>154.0</td>\n      <td>93.0</td>\n      <td>29.0</td>\n      <td>114.0</td>\n    </tr>\n    <tr>\n      <th>121</th>\n      <td>2020-07-17</td>\n      <td>177.0</td>\n      <td>52.0</td>\n      <td>161.0</td>\n      <td>96.0</td>\n      <td>29.0</td>\n      <td>114.0</td>\n    </tr>\n    <tr>\n      <th>122</th>\n      <td>2020-07-18</td>\n      <td>177.0</td>\n      <td>52.0</td>\n      <td>162.0</td>\n      <td>98.0</td>\n      <td>30.0</td>\n      <td>114.0</td>\n    </tr>\n    <tr>\n      <th>123</th>\n      <td>2020-07-19</td>\n      <td>177.0</td>\n      <td>52.0</td>\n      <td>162.0</td>\n      <td>98.0</td>\n      <td>30.0</td>\n      <td>114.0</td>\n    </tr>\n    <tr>\n      <th>124</th>\n      <td>2020-07-20</td>\n      <td>178.0</td>\n      <td>52.0</td>\n      <td>162.0</td>\n      <td>99.0</td>\n      <td>31.0</td>\n      <td>114.0</td>\n    </tr>\n  </tbody>\n</table>\n<p>125 rows × 7 columns</p>\n</div>"
     },
     "metadata": {},
     "execution_count": 73
    }
   ],
   "source": [
    "clean_df = process_data(df)\n",
    "clean_df"
   ]
  },
  {
   "cell_type": "code",
   "execution_count": 74,
   "metadata": {},
   "outputs": [
    {
     "output_type": "execute_result",
     "data": {
      "text/plain": "{'smart_tiles': [{},\n  {},\n  {'figure': '61', 'subheader': 'On 7/21'},\n  {'figure': '1,029', 'subheader': 'On 7/21'}]}"
     },
     "metadata": {},
     "execution_count": 74
    }
   ],
   "source": [
    "get_updated_data(clean_df, None)"
   ]
  }
 ]
}